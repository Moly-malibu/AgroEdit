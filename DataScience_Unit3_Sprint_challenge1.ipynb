{
  "nbformat": 4,
  "nbformat_minor": 0,
  "metadata": {
    "colab": {
      "name": "DataScience_Unit3_Sprint_challenge1",
      "provenance": [],
      "collapsed_sections": [],
      "authorship_tag": "ABX9TyNiHI/CCA9LrxMHkd4kgprM",
      "include_colab_link": true
    },
    "kernelspec": {
      "name": "python3",
      "display_name": "Python 3"
    }
  },
  "cells": [
    {
      "cell_type": "markdown",
      "metadata": {
        "id": "view-in-github",
        "colab_type": "text"
      },
      "source": [
        "<a href=\"https://colab.research.google.com/github/Moly-malibu/AgroEdit/blob/master/DataScience_Unit3_Sprint_challenge1.ipynb\" target=\"_parent\"><img src=\"https://colab.research.google.com/assets/colab-badge.svg\" alt=\"Open In Colab\"/></a>"
      ]
    },
    {
      "cell_type": "markdown",
      "metadata": {
        "id": "kE_IrJ6MgMdx",
        "colab_type": "text"
      },
      "source": [
        "### Part 1 - Keeping it Classy\n",
        "\n",
        "As an employee of Acme Corporation, you're always looking for ways to better\n",
        "organize the vast quantities and variety of goods your company manages and\n",
        "sells. Everything Acme sells is considered a `Product`, and must have the\n",
        "following fields (variables that live \"inside\" the class):\n",
        "\n",
        "- `name` (string with no default)\n",
        "- `price` (integer with default value 10)\n",
        "- `weight` (integer with default value 20)\n",
        "- `flammability` (float with default value 0.5)\n",
        "- `identifier` (integer, automatically genererated as a random (uniform) number\n",
        "  anywhere from 1000000 to 9999999, includisve)(inclusive).\n",
        "\n",
        "Write a Python `class` to model the above data. Make sure you are *precise* in\n",
        "your field names and types, and that your class has an `__init__` constructor\n",
        "method with appropriate defaults (or lack thereof).\n",
        "\n",
        "*Hint* - `random.randint` should be able to serve your random number needs.\n",
        "\n",
        "Save the class in `acme.py`, and you can test your code in a Python repl as\n",
        "follows:\n",
        "\n",
        "```python\n",
        ">>> from acme import Product\n",
        ">>> prod = Product('A Cool Toy')\n",
        ">>> prod.name\n",
        "'A Cool Toy'\n",
        ">>> prod.price\n",
        "10\n",
        ">>> prod.weight\n",
        "20\n",
        ">>> prod.flammability\n",
        "0.5\n",
        ">>> prod.identifier\n",
        "2812086  # your value will vary"
      ]
    },
    {
      "cell_type": "code",
      "metadata": {
        "id": "e2UA--3PgMwq",
        "colab_type": "code",
        "colab": {
          "base_uri": "https://localhost:8080/",
          "height": 371
        },
        "outputId": "6efd4e24-dc85-45b1-9fdb-9eaa8f0ee710"
      },
      "source": [
        "class Product:\n",
        "\n",
        "  def __init__(self, name, \n",
        "               price = 10, \n",
        "               weight = 20, \n",
        "               flammability = 0.5,\n",
        "               identifier = 9999999):\n",
        "    self.name= name\n",
        "    self.price = price\n",
        "    self.weight = weight\n",
        "    self.flammability = flammability\n",
        "    self.identifier = random.sample(range(1000000), 9999999)\n",
        "  \n",
        "  def name(self, input_name):\n",
        "    return f'Acne,{input_name}!Import Product{self.name},A Cool Toy!'\n",
        "    print('A Cool Toy')\n",
        "\n",
        "  def price(self, input_price):\n",
        "    return f'A Cool Toy,{input_price}!Product {self.price},Price!'\n",
        "    print('Price')\n",
        "\n",
        "  def weight(self, input_weight):\n",
        "    return f'A Cool Toy,{input_weight}!Product{self.weight},Weight!'\n",
        "    print('weight')\n",
        "\n",
        "  def flammability(self, input_flammability):\n",
        "    return f'A Cool Toy,{input_flammability}!Product{self.flammability},flammability!'\n",
        "    print('flammability')\n",
        "\n",
        "  def idenfitifier(self, input_idenfitifier):\n",
        "    return f'A Cool Toy,{input_identifier}!Product{self.identifier},identifier!'\n",
        "    print('identifier')\n",
        "\n",
        "  if __name__ ==\"__main__\":\n",
        "    name = name('A Cool Toy')\n",
        "    price = price('Price',10)\n",
        "    Weight = weight('weight', 20)\n",
        "    flammability = flammability('flammability', 0.5)\n",
        "    idenfitifier = identifier('identifier', 2812086)\n",
        "    print(product.name('A Cool Toy'))\n",
        "    print(product.price('Price'))\n",
        "    print(product.weight('Weight'))\n",
        "    print(product.flammability('Flammability'))"
      ],
      "execution_count": 40,
      "outputs": [
        {
          "output_type": "error",
          "ename": "TypeError",
          "evalue": "ignored",
          "traceback": [
            "\u001b[0;31m---------------------------------------------------------------------------\u001b[0m",
            "\u001b[0;31mTypeError\u001b[0m                                 Traceback (most recent call last)",
            "\u001b[0;32m<ipython-input-40-fc0e499f1f00>\u001b[0m in \u001b[0;36m<module>\u001b[0;34m()\u001b[0m\n\u001b[0;32m----> 1\u001b[0;31m \u001b[0;32mclass\u001b[0m \u001b[0mProduct\u001b[0m\u001b[0;34m:\u001b[0m\u001b[0;34m\u001b[0m\u001b[0;34m\u001b[0m\u001b[0m\n\u001b[0m\u001b[1;32m      2\u001b[0m \u001b[0;34m\u001b[0m\u001b[0m\n\u001b[1;32m      3\u001b[0m   def __init__(self, name, \n\u001b[1;32m      4\u001b[0m                \u001b[0mprice\u001b[0m \u001b[0;34m=\u001b[0m \u001b[0;36m10\u001b[0m\u001b[0;34m,\u001b[0m\u001b[0;34m\u001b[0m\u001b[0;34m\u001b[0m\u001b[0m\n\u001b[1;32m      5\u001b[0m                \u001b[0mweight\u001b[0m \u001b[0;34m=\u001b[0m \u001b[0;36m20\u001b[0m\u001b[0;34m,\u001b[0m\u001b[0;34m\u001b[0m\u001b[0;34m\u001b[0m\u001b[0m\n",
            "\u001b[0;32m<ipython-input-40-fc0e499f1f00>\u001b[0m in \u001b[0;36mProduct\u001b[0;34m()\u001b[0m\n\u001b[1;32m     33\u001b[0m \u001b[0;34m\u001b[0m\u001b[0m\n\u001b[1;32m     34\u001b[0m   \u001b[0;32mif\u001b[0m \u001b[0m__name__\u001b[0m \u001b[0;34m==\u001b[0m\u001b[0;34m\"__main__\"\u001b[0m\u001b[0;34m:\u001b[0m\u001b[0;34m\u001b[0m\u001b[0;34m\u001b[0m\u001b[0m\n\u001b[0;32m---> 35\u001b[0;31m     \u001b[0mname\u001b[0m \u001b[0;34m=\u001b[0m \u001b[0mname\u001b[0m\u001b[0;34m(\u001b[0m\u001b[0;34m'A Cool Toy'\u001b[0m\u001b[0;34m)\u001b[0m\u001b[0;34m\u001b[0m\u001b[0;34m\u001b[0m\u001b[0m\n\u001b[0m\u001b[1;32m     36\u001b[0m     \u001b[0mprice\u001b[0m \u001b[0;34m=\u001b[0m \u001b[0mprice\u001b[0m\u001b[0;34m(\u001b[0m\u001b[0;34m'Price'\u001b[0m\u001b[0;34m,\u001b[0m\u001b[0;36m10\u001b[0m\u001b[0;34m)\u001b[0m\u001b[0;34m\u001b[0m\u001b[0;34m\u001b[0m\u001b[0m\n\u001b[1;32m     37\u001b[0m     \u001b[0mWeight\u001b[0m \u001b[0;34m=\u001b[0m \u001b[0mweight\u001b[0m\u001b[0;34m(\u001b[0m\u001b[0;34m'weight'\u001b[0m\u001b[0;34m,\u001b[0m \u001b[0;36m20\u001b[0m\u001b[0;34m)\u001b[0m\u001b[0;34m\u001b[0m\u001b[0;34m\u001b[0m\u001b[0m\n",
            "\u001b[0;31mTypeError\u001b[0m: name() missing 1 required positional argument: 'input_name'"
          ]
        }
      ]
    },
    {
      "cell_type": "code",
      "metadata": {
        "id": "a0spgEUc8uI8",
        "colab_type": "code",
        "colab": {}
      },
      "source": [
        "class Product:\n",
        "\n",
        "  def __init__(self, name, \n",
        "               price = 10, \n",
        "               weight = 20, \n",
        "               flammability = 0.5,\n",
        "               identifier = 9999999):\n",
        "    self.name= name\n",
        "    self.price = price\n",
        "    self.weight = weight\n",
        "    self.flammability = flammability\n",
        "    self.identifier = random.sample(range(1000000), 9999999)\n",
        "\n",
        "  def product(self, input_name):\n",
        "    return f'Acne,{input_name}!Import Product{self.name},A Cool Toy!'\n",
        "\n",
        "  def product(self, input_price):\n",
        "    return f'A Cool Toy,{input_price}!Product Price {self.price},Weight and flammability!'\n",
        "\n",
        "  if __name__ ==\"__main__\":\n",
        "    product = product('A Cool Toy', 'Price',10)\n",
        "    flammability = flammability('flammability', 0.5, 'identifier', 2812086)\n",
        "    print(product.name)"
      ],
      "execution_count": 0,
      "outputs": []
    },
    {
      "cell_type": "code",
      "metadata": {
        "id": "82xzCJGi7ovn",
        "colab_type": "code",
        "colab": {}
      },
      "source": [
        "  def chunkIt(self, seq, num):  \n",
        "    avg = len(seq) / float(num)\n",
        "    out = []\n",
        "    last = 0.0\n",
        "\n",
        "    while last < len(seq):\n",
        "        out.append(seq[int(last):int(last + avg)])\n",
        "        last += avg\n",
        "    return out"
      ],
      "execution_count": 0,
      "outputs": []
    }
  ]
}